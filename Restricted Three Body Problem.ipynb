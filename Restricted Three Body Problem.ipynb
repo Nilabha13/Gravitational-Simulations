{
 "cells": [
  {
   "cell_type": "code",
   "execution_count": 6,
   "id": "1d6a7932",
   "metadata": {},
   "outputs": [],
   "source": [
    "import numpy as np\n",
    "from matplotlib import pyplot as pltha"
   ]
  },
  {
   "cell_type": "code",
   "execution_count": 16,
   "id": "bd2fcb03",
   "metadata": {},
   "outputs": [],
   "source": [
    "def euler_richardson(F, x_0, v_0, t_0, t_end, delta_t):\n",
    "    x_vals = []\n",
    "    x_curr, v_curr = x_0, v_0\n",
    "    for t_curr in np.arange(t_0, t_end, delta_t):\n",
    "        x_vals.append(x_curr)\n",
    "        a = F(x_curr, v_curr, t_curr)\n",
    "        v_mid = v_curr + 0.5*a*delta_t\n",
    "        x_mid = x_curr + 0.5*v_curr*delta_t\n",
    "        a_mid = F(x_mid, v_mid, t_curr + 0.5*delta_t)\n",
    "        v_curr = v_curr + a_mid*delta_t\n",
    "        x_curr = x_curr + v_mid*delta_t\n",
    "    return np.array(x_vals)"
   ]
  },
  {
   "cell_type": "code",
   "execution_count": 26,
   "id": "ba7c7461",
   "metadata": {},
   "outputs": [],
   "source": [
    "# m1 = 1.9891E30\n",
    "# m2 = 1.4313E27\n",
    "# mu = m2/(m1+m2)\n",
    "\n",
    "# SECOND = 1; MINUTE = 60 * SECOND; HOUR = 60 * MINUTE; DAY = 24 * HOUR; YEAR = 365.25 * DAY\n",
    "\n",
    "# X_0 = np.array((mu-0.5, np.sqrt(3)/2))\n",
    "# V_0 = np.array((0, 0))\n",
    "# t_0 = 0\n",
    "# t_end = MINUTE\n",
    "\n",
    "# def F(X, V, t):\n",
    "#     x, y = X\n",
    "#     v_x, v_y = V\n",
    "#     print(x, mu, y)\n",
    "#     p1 = np.sqrt((x+mu)**2 + y**2)\n",
    "#     p2 = np.sqrt((x-1+mu)**2 + y**2)\n",
    "#     a_x = 2*v_y + x - (1-mu)*(x+mu)/(p1**3) - mu*(x-1+mu)/(p2**3)\n",
    "#     a_y = -2*v_x + y - (1-mu)*y/(p1**3) - mu*y/(p2**3)\n",
    "#     return np.array(a_x, a_y)\n",
    "\n",
    "# vals = euler_richardson(F, X_0, V_0, t_0, t_end, SECOND)\n",
    "# x_vals, y_vals = [], []\n",
    "# for val in vals:\n",
    "#     x_vals.append(val[0])\n",
    "#     y_vals.append(val[1])\n",
    "\n",
    "# plt.scatter(x_vals, y_vals, s=1)\n",
    "# plt.scatter(-mu, 0)\n",
    "# plt.scatter(1-mu, 0)"
   ]
  },
  {
   "cell_type": "code",
   "execution_count": null,
   "id": "1f0cbc3f",
   "metadata": {},
   "outputs": [],
   "source": []
  }
 ],
 "metadata": {
  "kernelspec": {
   "display_name": "Python 3 (ipykernel)",
   "language": "python",
   "name": "python3"
  },
  "language_info": {
   "codemirror_mode": {
    "name": "ipython",
    "version": 3
   },
   "file_extension": ".py",
   "mimetype": "text/x-python",
   "name": "python",
   "nbconvert_exporter": "python",
   "pygments_lexer": "ipython3",
   "version": "3.10.5"
  }
 },
 "nbformat": 4,
 "nbformat_minor": 5
}
